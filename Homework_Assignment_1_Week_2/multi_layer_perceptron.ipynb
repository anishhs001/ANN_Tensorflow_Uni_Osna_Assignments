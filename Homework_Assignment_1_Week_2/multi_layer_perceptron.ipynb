{
 "cells": [
  {
   "cell_type": "markdown",
   "id": "8db45146",
   "metadata": {},
   "source": [
    "## 2.1 Data"
   ]
  },
  {
   "cell_type": "code",
   "execution_count": 88,
   "id": "1ea693dc",
   "metadata": {},
   "outputs": [],
   "source": [
    "import numpy as np\n",
    "import pandas as pd\n",
    "import matplotlib.pyplot as plt\n",
    "import random\n",
    "\n",
    "from sklearn.datasets import load_digits"
   ]
  },
  {
   "cell_type": "code",
   "execution_count": 89,
   "id": "51ec500b",
   "metadata": {},
   "outputs": [
    {
     "name": "stdout",
     "output_type": "stream",
     "text": [
      "(1797, 64)\n"
     ]
    },
    {
     "data": {
      "text/plain": [
       "<Figure size 432x288 with 0 Axes>"
      ]
     },
     "metadata": {},
     "output_type": "display_data"
    },
    {
     "data": {
      "image/png": "[encoded data removed]",
      "text/plain": [
       "<Figure size 288x288 with 1 Axes>"
      ]
     },
     "metadata": {
      "needs_background": "light"
     },
     "output_type": "display_data"
    }
   ],
   "source": [
    "digits = load_digits()\n",
    "print(digits.data.shape)\n",
    "plt.gray()\n",
    "plt.matshow(digits.images[1796])\n",
    "plt.show()"
   ]
  },
  {
   "cell_type": "code",
   "execution_count": 90,
   "id": "1a3b5630",
   "metadata": {},
   "outputs": [
    {
     "data": {
      "text/plain": [
       "array([[ 0.,  0.,  5., ...,  0.,  0.,  0.],\n",
       "       [ 0.,  0.,  0., ..., 10.,  0.,  0.],\n",
       "       [ 0.,  0.,  0., ..., 16.,  9.,  0.],\n",
       "       ...,\n",
       "       [ 0.,  0.,  1., ...,  6.,  0.,  0.],\n",
       "       [ 0.,  0.,  2., ..., 12.,  0.,  0.],\n",
       "       [ 0.,  0., 10., ..., 12.,  1.,  0.]])"
      ]
     },
     "execution_count": 90,
     "metadata": {},
     "output_type": "execute_result"
    }
   ],
   "source": [
    "digits.data"
   ]
  },
  {
   "cell_type": "code",
   "execution_count": 91,
   "id": "97289086",
   "metadata": {},
   "outputs": [],
   "source": [
    "# input_target = []\n",
    "# for i in range(0,1797):\n",
    "#     input_target.append((digits.images[i],digits.target[i]))"
   ]
  },
  {
   "cell_type": "code",
   "execution_count": 92,
   "id": "546f5c2b",
   "metadata": {},
   "outputs": [],
   "source": [
    "inputs = np.array(digits.images)\n",
    "targets = np.array(digits.target)"
   ]
  },
  {
   "cell_type": "code",
   "execution_count": 93,
   "id": "ff0c1ac1",
   "metadata": {},
   "outputs": [
    {
     "data": {
      "text/plain": [
       "<Figure size 432x288 with 0 Axes>"
      ]
     },
     "metadata": {},
     "output_type": "display_data"
    },
    {
     "data": {
      "image/png": "[encoded data removed]",
      "text/plain": [
       "<Figure size 288x288 with 1 Axes>"
      ]
     },
     "metadata": {
      "needs_background": "light"
     },
     "output_type": "display_data"
    }
   ],
   "source": [
    "plt.gray()\n",
    "plt.matshow(inputs[0])\n",
    "plt.show()"
   ]
  },
  {
   "cell_type": "code",
   "execution_count": 94,
   "id": "e71b224b",
   "metadata": {},
   "outputs": [],
   "source": [
    "reshaped_inputs = inputs.reshape(1797,64)"
   ]
  },
  {
   "cell_type": "code",
   "execution_count": 95,
   "id": "d33c01b5",
   "metadata": {},
   "outputs": [],
   "source": [
    "reshaped_inputs_f32 = reshaped_inputs.astype('float32')/16"
   ]
  },
  {
   "cell_type": "code",
   "execution_count": 96,
   "id": "d4ecf9a5",
   "metadata": {},
   "outputs": [
    {
     "data": {
      "text/plain": [
       "array([[1., 0., 0., ..., 0., 0., 0.],\n",
       "       [0., 1., 0., ..., 0., 0., 0.],\n",
       "       [0., 0., 1., ..., 0., 0., 0.],\n",
       "       ...,\n",
       "       [0., 0., 0., ..., 0., 1., 0.],\n",
       "       [0., 0., 0., ..., 0., 0., 1.],\n",
       "       [0., 0., 0., ..., 0., 1., 0.]])"
      ]
     },
     "execution_count": 96,
     "metadata": {},
     "output_type": "execute_result"
    }
   ],
   "source": [
    "target_array = np.zeros((1797,10))\n",
    "for i in range(1797):\n",
    "    target_array[i][targets[i]]=1\n",
    "target_array"
   ]
  },
  {
   "cell_type": "code",
   "execution_count": 97,
   "id": "dc453c2a",
   "metadata": {},
   "outputs": [
    {
     "data": {
      "text/plain": [
       "array([1., 0., 0., 0., 0., 0., 0., 0., 0., 0.])"
      ]
     },
     "execution_count": 97,
     "metadata": {},
     "output_type": "execute_result"
    }
   ],
   "source": [
    "target_array[0]"
   ]
  },
  {
   "cell_type": "code",
   "execution_count": 98,
   "id": "d16e5189",
   "metadata": {},
   "outputs": [
    {
     "data": {
      "text/plain": [
       "(1797, 64)"
      ]
     },
     "execution_count": 98,
     "metadata": {},
     "output_type": "execute_result"
    }
   ],
   "source": [
    "reshaped_inputs_f32.shape"
   ]
  },
  {
   "cell_type": "code",
   "execution_count": 99,
   "id": "8bffccc3",
   "metadata": {},
   "outputs": [],
   "source": [
    "input_target = []\n",
    "for i in range(1797):\n",
    "    input_target.append((reshaped_inputs_f32[i],target_array[i]))"
   ]
  },
  {
   "cell_type": "code",
   "execution_count": 100,
   "id": "declared-forth",
   "metadata": {},
   "outputs": [],
   "source": [
    "mini_batch_size = 10"
   ]
  },
  {
   "cell_type": "code",
   "execution_count": 101,
   "id": "9f22345d",
   "metadata": {},
   "outputs": [],
   "source": [
    "def generate_minibatch(input_target=input_target):\n",
    "    random.shuffle(input_target)\n",
    "    inputs = []\n",
    "    targets = []\n",
    "    for i in range(1797):\n",
    "        inputs.append(input_target[i][0])\n",
    "        targets.append(input_target[i][1])\n",
    "    inputs_cp = inputs.copy()\n",
    "    targets_cp = targets.copy()\n",
    "    minibatch_input = np.array(inputs_cp[:mini_batch_size])\n",
    "    minibatch_target = np.array(targets_cp[:mini_batch_size])\n",
    "    \n",
    "    del inputs_cp[0:mini_batch_size]\n",
    "    del targets_cp[0:mini_batch_size]\n",
    "    \n",
    "    yield (minibatch_input,minibatch_target)"
   ]
  },
  {
   "cell_type": "code",
   "execution_count": 102,
   "id": "306ebd70",
   "metadata": {},
   "outputs": [],
   "source": [
    "mini_input, mini_target = next(generate_minibatch())\n",
    "initial_input_size = mini_input[1]"
   ]
  },
  {
   "cell_type": "markdown",
   "id": "a2208b4e",
   "metadata": {},
   "source": [
    "## 2.2 & 2.3 Sigmoid Function and Softmax Function"
   ]
  },
  {
   "cell_type": "code",
   "execution_count": 103,
   "id": "23b2f1f6",
   "metadata": {},
   "outputs": [],
   "source": [
    "class activation_functions():\n",
    "    def sigmoid(X):\n",
    "        return np.exp(X) / (1+np.exp(X))\n",
    "    def softmax(Z):\n",
    "        return np.exp(Z) / np.sum(np.exp(Z))"
   ]
  },
  {
   "cell_type": "markdown",
   "id": "educated-giant",
   "metadata": {},
   "source": [
    "## 2.4 MLP weights"
   ]
  },
  {
   "cell_type": "code",
   "execution_count": 104,
   "id": "employed-gross",
   "metadata": {},
   "outputs": [],
   "source": [
    "class mlp_layer:\n",
    "    def __init__(self, activation_function, perceptron_layer, input_size):\n",
    "        self.activation_function = activation_function\n",
    "        self.perceptron_layer = perceptron_layer\n",
    "        self.input_size = input_size\n",
    "    def attributes(self, minibatch_size = mini_batch_size):\n",
    "        W=np.random.normal(0,0.2,size=(minibatch_size, self.input_size))\n",
    "        b=np.zeros(shape=(minibatch_size,1))\n",
    "        return W,b\n",
    "    def forward_function(self, X):\n",
    "        activation_values = []\n",
    "        for i in range(self.perceptron_layer):\n",
    "            W,b = self.attributes()\n",
    "            Z = W.dot(X) + b\n",
    "            if((activation_function == 'sigmoid') or (activation_function == 'Sigmoid')):\n",
    "                activation_values.append(self.activation_functions.sigmoid(Z))\n",
    "            elif((activation_function == 'softmax') or (activation_function == 'Softmax')):\n",
    "                activation_values.append(self.activation_functions.softmax(Z))\n",
    "        return np.array(activation_values)"
   ]
  },
  {
   "cell_type": "markdown",
   "id": "accompanied-mathematics",
   "metadata": {},
   "source": [
    "## 2.5 Putting together the MLP "
   ]
  },
  {
   "cell_type": "code",
   "execution_count": 105,
   "id": "nasty-ticket",
   "metadata": {},
   "outputs": [],
   "source": [
    "class mlp:\n",
    "    def __init__(self, no_of_layers, size_of_layer, layer_activation_function_string_list):\n",
    "        self.no_of_layers = no_of_layers\n",
    "        self.size_of_layer = size_of_layer\n",
    "        self.layer_activation_function_string_list = layer_activation_function_string_list\n",
    "        \n",
    "    def mlp_final_calculation(self, X, initial_input_size = initial_input_size):\n",
    "        outputs_list = []\n",
    "        input_size_list = []\n",
    "        outputs_list.append(X)\n",
    "        input_size_list.append(initial_input_size)\n",
    "        for i in range(self.no_of_layers):\n",
    "            mlp_layer_i_output = mlp_layer(self.layer_activation_function_string_list[i], self.size_of_layer[i], input_size_list[-1]).forward_function(outputs_list[-1])\n",
    "            outputs_list.append(mlp_layer_i_output)\n",
    "            input_size_list.append(mlp_layer_i_output.shape[0])\n",
    "        return outputs_list"
   ]
  },
  {
   "cell_type": "markdown",
   "id": "sustainable-jumping",
   "metadata": {},
   "source": [
    "## 2.6 CCE Loss Function"
   ]
  },
  {
   "cell_type": "code",
   "execution_count": 106,
   "id": "advised-interview",
   "metadata": {},
   "outputs": [],
   "source": [
    "class loss_function:\n",
    "    def cce_loss(actual_output,predicted_output):\n",
    "        return ((-1/minibatch_size)*np.sum(actual_output.dot(predicted_output)))"
   ]
  }
 ],
 "metadata": {
  "kernelspec": {
   "display_name": "Python 3",
   "language": "python",
   "name": "python3"
  },
  "language_info": {
   "codemirror_mode": {
    "name": "ipython",
    "version": 3
   },
   "file_extension": ".py",
   "mimetype": "text/x-python",
   "name": "python",
   "nbconvert_exporter": "python",
   "pygments_lexer": "ipython3",
   "version": "3.7.0"
  }
 },
 "nbformat": 4,
 "nbformat_minor": 5
}
