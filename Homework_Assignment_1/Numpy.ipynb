{
 "cells": [
  {
   "cell_type": "code",
   "execution_count": 1,
   "id": "strange-portugal",
   "metadata": {},
   "outputs": [],
   "source": [
    "import numpy as np"
   ]
  },
  {
   "cell_type": "code",
   "execution_count": 2,
   "id": "blank-export",
   "metadata": {},
   "outputs": [
    {
     "name": "stdout",
     "output_type": "stream",
     "text": [
      "[[ 0.49976672  0.36092659 -1.28240038 -0.73418788  2.53918208]\n",
      " [ 0.43147391  1.78632608  0.31963655  2.30652922 -0.09030664]\n",
      " [-0.15470256 -0.6881398   0.50906459  0.61962139 -0.44732781]\n",
      " [ 0.35900533 -0.56515165 -0.1907746  -0.99650698 -0.7976852 ]\n",
      " [-0.20684388  0.41090437  0.04233127 -1.17627762  1.19024402]]\n"
     ]
    }
   ],
   "source": [
    "# 1. Create a 5x5 NumPy array filled with normally distributed (i.e. μ = 0,σ = 1)\n",
    "arr=np.random.normal(0,1,size=(5,5))\n",
    "print(arr)"
   ]
  },
  {
   "cell_type": "code",
   "execution_count": 3,
   "id": "37804e2d",
   "metadata": {},
   "outputs": [
    {
     "name": "stdout",
     "output_type": "stream",
     "text": [
      "[[ 0.24976678  0.130268   42.         42.          6.44744565]\n",
      " [ 0.18616974  3.19096088  0.10216752  5.32007705 42.        ]\n",
      " [42.         42.          0.25914676  0.38393067 42.        ]\n",
      " [ 0.12888483 42.         42.         42.         42.        ]\n",
      " [42.          0.1688424  42.         42.          1.41668082]]\n"
     ]
    }
   ],
   "source": [
    "# 2. If the value of an entry is greater than 0.09, replace it with its square.Else, replace it with 42.\n",
    "for i in range(arr.shape[0]):\n",
    "    for j in range(arr.shape[1]):\n",
    "        if arr[i][j]>0.09:\n",
    "            arr[i][j]=arr[i][j]**2\n",
    "        else:\n",
    "            arr[i][j]=42\n",
    "print(arr)"
   ]
  },
  {
   "cell_type": "code",
   "execution_count": 6,
   "id": "6c0cd539",
   "metadata": {},
   "outputs": [
    {
     "name": "stdout",
     "output_type": "stream",
     "text": [
      "[42.          5.32007705  0.38393067 42.         42.        ]\n"
     ]
    }
   ],
   "source": [
    "# 3. Use slicing to print just the fourth column of your array.\n",
    "print(arr[:,3])"
   ]
  }
 ],
 "metadata": {
  "kernelspec": {
   "display_name": "Python 3",
   "language": "python",
   "name": "python3"
  },
  "language_info": {
   "codemirror_mode": {
    "name": "ipython",
    "version": 3
   },
   "file_extension": ".py",
   "mimetype": "text/x-python",
   "name": "python",
   "nbconvert_exporter": "python",
   "pygments_lexer": "ipython3",
   "version": "3.7.0"
  }
 },
 "nbformat": 4,
 "nbformat_minor": 5
}
