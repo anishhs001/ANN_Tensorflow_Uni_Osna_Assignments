{
 "cells": [
  {
   "cell_type": "code",
   "execution_count": 15,
   "id": "developed-favorite",
   "metadata": {},
   "outputs": [
    {
     "name": "stdout",
     "output_type": "stream",
     "text": [
      "1 Meow \n",
      "2 Meow Meow \n",
      "3 Meow Meow Meow Meow \n",
      "4 Meow Meow Meow Meow Meow Meow Meow Meow \n"
     ]
    }
   ],
   "source": [
    "def generate_meow():\n",
    "    num = 1\n",
    "    while True:\n",
    "        yield (str(num)+' '+'Meow '*(2**(num-1)))\n",
    "        num += 1\n",
    "gen_meow = generate_meow()\n",
    "print(next(gen_meow))\n",
    "print(next(gen_meow))\n",
    "print(next(gen_meow))\n",
    "print(next(gen_meow))"
   ]
  }
 ],
 "metadata": {
  "kernelspec": {
   "display_name": "Python 3",
   "language": "python",
   "name": "python3"
  },
  "language_info": {
   "codemirror_mode": {
    "name": "ipython",
    "version": 3
   },
   "file_extension": ".py",
   "mimetype": "text/x-python",
   "name": "python",
   "nbconvert_exporter": "python",
   "pygments_lexer": "ipython3",
   "version": "3.7.0"
  }
 },
 "nbformat": 4,
 "nbformat_minor": 5
}
